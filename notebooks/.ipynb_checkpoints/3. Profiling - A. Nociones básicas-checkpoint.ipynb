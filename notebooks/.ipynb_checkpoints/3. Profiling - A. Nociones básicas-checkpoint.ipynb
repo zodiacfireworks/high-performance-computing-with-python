{
 "cells": [
  {
   "cell_type": "markdown",
   "metadata": {},
   "source": [
    "<div class=\"clearfix\" style=\"padding: 10px; padding-left: 0px\">\n",
    "<img src=\"resources/img/softbutterfly-logo.png\" class=\"pull-left\" style=\"display: block; height: 40px; margin: 0;\"><img src=\"resources/img/jupyter-logo.png\" class=\"pull-right\"  style=\"display: block; height: 20px; margin-top: 10px;\">\n",
    "</div>"
   ]
  },
  {
   "cell_type": "markdown",
   "metadata": {},
   "source": [
    "<h1 style=\"text-align:center;\">Introducción a la Computación de alto rendimiento con Python<br></h1>"
   ]
  },
  {
   "cell_type": "markdown",
   "metadata": {},
   "source": [
    "<div style=\"text-align:center;\">\n",
    "<strong>Martín Josemaría Vuelta Rojas</strong><br><br>\n",
    "<i>Universidad Nacional Mayor de San Marcos</i><br>\n",
    "<strong>Facultad de Ciencias Físicas</strong><br><br>\n",
    "<i>SoftButterfly</i><br>\n",
    "<strong>Cofundador y Líder del Área de Desarrollo</strong><br>\n",
    "</div>"
   ]
  },
  {
   "cell_type": "markdown",
   "metadata": {},
   "source": [
    "## 3. Profiling"
   ]
  },
  {
   "cell_type": "markdown",
   "metadata": {},
   "source": [
    "> *Profiling o perfilaje es el conjunto de tecicas que nos permiten entender el comportamiento de un programa.*"
   ]
  },
  {
   "cell_type": "markdown",
   "metadata": {},
   "source": [
    "### 3.1 Una aproximación intuitiva"
   ]
  },
  {
   "cell_type": "code",
   "execution_count": null,
   "metadata": {
    "collapsed": true
   },
   "outputs": [],
   "source": [
    "%matplotlib inline"
   ]
  },
  {
   "cell_type": "code",
   "execution_count": null,
   "metadata": {
    "collapsed": true
   },
   "outputs": [],
   "source": [
    "import matplotlib.pyplot as plt\n",
    "import matplotlib.cm as cm\n",
    "import datetime\n",
    "\n",
    "# Limites de la region a estudiar\n",
    "xL, xU, yL, yU = -2, +2, -2, +2\n",
    "\n",
    "# resolucion de la imagen\n",
    "r = 2000\n",
    "\n",
    "# numero maximo de iteraciones\n",
    "max_it = 200\n",
    "\n",
    "# Grillado de la region a estudiar\n",
    "x = [xL + i * (float(xU) - float(xL)) / (float(r)) for i in range(r + 1)]\n",
    "y = [yL + i * (float(yU) - float(yL)) / (float(r)) for i in range(r + 1)]\n",
    "\n",
    "# Constantes a emplearse como c en\n",
    "# z_n+1 = z_n*z_n + c\n",
    "c = complex(-0.8350000, -0.23210000)\n",
    "\n",
    "# Preparecion del mallado en el plano complejo\n",
    "z = [[complex(re, im) for re in x] for im in y]\n",
    "q = [[0 for i in range(r + 1)] for j in range(r + 1)]\n",
    "\n",
    "# \"Crunching number\"\n",
    "print(\"Generando conjunto de Julia\")\n",
    "print(\"Puntos: {}\".format(len(x) * len(y)))\n",
    "timer = datetime.datetime.now()\n",
    "for i in range(len(x)):\n",
    "    for j in range(len(y)):\n",
    "        p = i + j + i * r\n",
    "\n",
    "        if p % (r + 1) == 0:\n",
    "            p = 100.0 * float(p) / float((r + 1) * (r + 1))\n",
    "            print(\"\\rCompletado: {0:>7.3f}%\".format(p), end=\"\")\n",
    "\n",
    "        for k in range(max_it):\n",
    "            z[i][j] = (z[i][j] * z[i][j]) + c\n",
    "            if abs(z[i][j]) > 2:\n",
    "                q[i][j] = k\n",
    "                break\n",
    "\n",
    "print(\"\\rCompletado: 100.00%\")\n",
    "timer = datetime.datetime.now() - timer\n",
    "print(\"Tiempo total: {0:}\".format(timer))\n",
    "\n",
    "# Output figure\n",
    "plt.figure(figsize=(10, 10), frameon=False)\n",
    "plt.imshow(q, extent=[xL, xU, yL, yU], cmap=cm.bone, vmin=min(min(q)), vmax=max(max(q)))\n",
    "plt.axis('off')\n",
    "plt.show()"
   ]
  },
  {
   "cell_type": "markdown",
   "metadata": {},
   "source": [
    "### 3.2 Escribiendo nuestro ejemplo en términos de funciones"
   ]
  },
  {
   "cell_type": "markdown",
   "metadata": {},
   "source": [
    "#### 3.2.1 Disecionando el programa"
   ]
  },
  {
   "cell_type": "code",
   "execution_count": null,
   "metadata": {
    "collapsed": true
   },
   "outputs": [],
   "source": [
    "import matplotlib.pyplot as plt\n",
    "import matplotlib.cm as cm\n",
    "import datetime"
   ]
  },
  {
   "cell_type": "code",
   "execution_count": null,
   "metadata": {
    "collapsed": true
   },
   "outputs": [],
   "source": [
    "def make_meshgrid(X, Y, empty=False):\n",
    "    if empty:\n",
    "        return [[0 for i in range(len(X))] for j in range(len(Y))]\n",
    "\n",
    "    return [[complex(re, im) for re in X] for im in Y]"
   ]
  },
  {
   "cell_type": "code",
   "execution_count": null,
   "metadata": {
    "collapsed": true
   },
   "outputs": [],
   "source": [
    "def make_plot(data, boundaries):\n",
    "    plt.figure(figsize=(10, 10), frameon=False)\n",
    "    plt.imshow(data, extent=boundaries, cmap=cm.bone, vmin=min(min(data)), vmax=max(max(data)))\n",
    "    plt.axis('off')\n",
    "    plt.show()"
   ]
  },
  {
   "cell_type": "code",
   "execution_count": null,
   "metadata": {
    "collapsed": true
   },
   "outputs": [],
   "source": [
    "def make_julia_set_1(Z, q, c, it, verbose=False):\n",
    "    r = len(Z)\n",
    "\n",
    "    for i in range(r):\n",
    "        for j in range(r):\n",
    "            if verbose:\n",
    "                p = i + j + i * (r - 1)\n",
    "\n",
    "                if p % r == 0:\n",
    "                    p = 100.0 * float(p) / float(r * r)\n",
    "                    print(\"\\rCompletado: {0:>7.3f}%\".format(p), end=\"\")\n",
    "\n",
    "            for k in range(it):\n",
    "                Z[i][j] = (Z[i][j] * Z[i][j]) + c\n",
    "                if abs(Z[i][j]) > 2:\n",
    "                    q[i][j] = k\n",
    "                    break\n",
    "\n",
    "    if verbose:\n",
    "        print(\"\\rCompletado: 100.000%\")\n",
    "\n",
    "    return Z, q"
   ]
  },
  {
   "cell_type": "code",
   "execution_count": null,
   "metadata": {
    "collapsed": true
   },
   "outputs": [],
   "source": [
    "def basic_profiler(f, args=[], kwargs={}):\n",
    "    timer = datetime.datetime.now()\n",
    "\n",
    "    output = f(*args, **kwargs)\n",
    "\n",
    "    timer = datetime.datetime.now() - timer\n",
    "    print(\"Tiempo total: {0:}\".format(timer))\n",
    "\n",
    "    return output"
   ]
  },
  {
   "cell_type": "code",
   "execution_count": null,
   "metadata": {
    "collapsed": true
   },
   "outputs": [],
   "source": [
    "def main(f, plot=False):\n",
    "    # Limites de la region a estudiar\n",
    "    xL, xU, yL, yU = -2, +2, -2, +2\n",
    "\n",
    "    # resolucion de la imagen\n",
    "    r = 2000\n",
    "\n",
    "    # numero maximo de iteraciones\n",
    "    max_it = 200\n",
    "\n",
    "    # Grillado de la region a estudiar\n",
    "    x = [xL + i * (float(xU) - float(xL)) / (float(r)) for i in range(r + 1)]\n",
    "    y = [yL + i * (float(yU) - float(yL)) / (float(r)) for i in range(r + 1)]\n",
    "\n",
    "    # Constantes a emplearse como c en\n",
    "    # z_n+1 = z_n*z_n + c\n",
    "    c = complex(-0.8350000, -0.23210000)\n",
    "\n",
    "    # Preparecion del mallado en el plano complejo\n",
    "    z = make_meshgrid(x, y, empty=False)\n",
    "    q = make_meshgrid(x, y, empty=True)\n",
    "\n",
    "    print(\"Generando conjunto de Julia\")\n",
    "    print(\"Puntos: {}\".format(len(x) * len(y)))\n",
    "\n",
    "    # Crunching number and profiling\n",
    "    z, q = basic_profiler(f, args=[z, q, c, max_it], kwargs={'verbose': True})\n",
    "    \n",
    "    # Fancy Plot\n",
    "    if plot:\n",
    "        make_plot(q, [xL, xU, yL, yU])"
   ]
  },
  {
   "cell_type": "markdown",
   "metadata": {},
   "source": [
    "#### 3.2.2 Una mejora inesperada en los tiempos"
   ]
  },
  {
   "cell_type": "code",
   "execution_count": null,
   "metadata": {
    "collapsed": true
   },
   "outputs": [],
   "source": [
    "if __name__ == '__main__':\n",
    "    main(make_julia_set_1, plot=True)"
   ]
  },
  {
   "cell_type": "markdown",
   "metadata": {},
   "source": [
    "#### 3.2.3 Una mejora más"
   ]
  },
  {
   "cell_type": "code",
   "execution_count": null,
   "metadata": {
    "collapsed": true
   },
   "outputs": [],
   "source": [
    "def make_julia_set_2(Z, q, c, it, verbose=False):\n",
    "    r = len(Z)\n",
    "\n",
    "    for i in range(r):\n",
    "        for j in range(r):\n",
    "            if verbose:\n",
    "                p = i + j + i * (r - 1)\n",
    "\n",
    "                if p % r == 0:\n",
    "                    p = 100.0 * float(p) / float(r * r)\n",
    "                    print(\"\\rCompletado: {0:>7.3f}%\".format(p), end=\"\")\n",
    "            z = Z[i][j] \n",
    "            for k in range(it):\n",
    "                z = (z * z) + c\n",
    "                if abs(z) > 2:\n",
    "                    q[i][j] = k\n",
    "                    break\n",
    "\n",
    "    if verbose:\n",
    "        print(\"\\rCompletado: 100.000%\")\n",
    "\n",
    "    return Z, q"
   ]
  },
  {
   "cell_type": "code",
   "execution_count": null,
   "metadata": {
    "collapsed": true,
    "scrolled": false
   },
   "outputs": [],
   "source": [
    "if __name__ == '__main__':\n",
    "    main(make_julia_set_2, plot=True)"
   ]
  }
 ],
 "metadata": {
  "anaconda-cloud": {},
  "kernelspec": {
   "display_name": "Python 3",
   "language": "python",
   "name": "python3"
  },
  "language_info": {
   "codemirror_mode": {
    "name": "ipython",
    "version": 3
   },
   "file_extension": ".py",
   "mimetype": "text/x-python",
   "name": "python",
   "nbconvert_exporter": "python",
   "pygments_lexer": "ipython3",
   "version": "3.6.2"
  }
 },
 "nbformat": 4,
 "nbformat_minor": 1
}
