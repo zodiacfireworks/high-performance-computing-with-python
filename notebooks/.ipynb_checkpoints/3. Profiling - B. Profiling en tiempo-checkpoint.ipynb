{
 "cells": [
  {
   "cell_type": "markdown",
   "metadata": {},
   "source": [
    "<div class=\"clearfix\" style=\"padding: 10px; padding-left: 0px\">\n",
    "<img src=\"resources/img/softbutterfly-logo.png\" class=\"pull-left\" style=\"display: block; height: 40px; margin: 0;\"><img src=\"resources/img/jupyter-logo.png\" class=\"pull-right\"  style=\"display: block; height: 20px; margin-top: 10px;\">\n",
    "</div>"
   ]
  },
  {
   "cell_type": "markdown",
   "metadata": {},
   "source": [
    "<h1 style=\"text-align:center;\">Introducción a la Computación de alto rendimiento con Python<br></h1>"
   ]
  },
  {
   "cell_type": "markdown",
   "metadata": {},
   "source": [
    "<div style=\"text-align:center;\">\n",
    "<strong>Martín Josemaría Vuelta Rojas</strong><br><br>\n",
    "<i>Universidad Nacional Mayor de San Marcos</i><br>\n",
    "<strong>Facultad de Ciencias Físicas</strong><br><br>\n",
    "<i>SoftButterfly</i><br>\n",
    "<strong>Cofundador y Líder del Área de Desarrollo</strong><br>\n",
    "</div>"
   ]
  },
  {
   "cell_type": "markdown",
   "metadata": {},
   "source": [
    "## 3. Profiling"
   ]
  },
  {
   "cell_type": "markdown",
   "metadata": {},
   "source": [
    "> *Profiling o perfilaje es el conjunto de tecicas que nos permiten entender el comportamiento de un programa.*"
   ]
  },
  {
   "cell_type": "markdown",
   "metadata": {},
   "source": [
    "### 3.3 Profiling en tiempo"
   ]
  },
  {
   "cell_type": "markdown",
   "metadata": {},
   "source": [
    "#### 3.3.1 Resultados de nuestra intuición"
   ]
  },
  {
   "cell_type": "code",
   "execution_count": null,
   "metadata": {
    "collapsed": true
   },
   "outputs": [],
   "source": [
    "%%capture A1_profile\n",
    "%run code/A1.py"
   ]
  },
  {
   "cell_type": "code",
   "execution_count": null,
   "metadata": {
    "collapsed": true
   },
   "outputs": [],
   "source": [
    "%%capture A2_profile\n",
    "%run code/A2.py"
   ]
  },
  {
   "cell_type": "code",
   "execution_count": null,
   "metadata": {
    "collapsed": true
   },
   "outputs": [],
   "source": [
    "%%capture A3_profile\n",
    "%run code/A3.py"
   ]
  },
  {
   "cell_type": "code",
   "execution_count": null,
   "metadata": {
    "collapsed": true
   },
   "outputs": [],
   "source": [
    "%matplotlib inline"
   ]
  },
  {
   "cell_type": "code",
   "execution_count": null,
   "metadata": {
    "collapsed": true
   },
   "outputs": [],
   "source": [
    "import matplotlib.pyplot as plt\n",
    "import seaborn\n",
    "import re\n",
    "\n",
    "\n",
    "def get_time(profile):\n",
    "    time = re.sub(r'\\rCompletado.*%\\n', '', profile.stdout)\n",
    "    time = time.strip('\\n')\n",
    "    time = time.split('\\n')[-1]\n",
    "    time = time.split(':')[-3:]\n",
    "    time = [float(t) * (60 ** (2 - i)) for i, t in enumerate(time)]\n",
    "    time = sum(time)\n",
    "    return time\n",
    "\n",
    "\n",
    "A1_time = get_time(A1_profile)\n",
    "A2_time = get_time(A2_profile)\n",
    "A3_time = get_time(A3_profile)\n",
    "\n",
    "times = [A1_time, A2_time, A3_time]\n",
    "position = [1, 2, 3]\n",
    "width = 0.5\n",
    "\n",
    "xticks = [1, 2, 3]\n",
    "xlabels = ('A1', 'A2', 'A3')\n",
    "\n",
    "xlabel = 'Programas'\n",
    "ylabel = 'Time (s)'\n",
    "\n",
    "seaborn.set()\n",
    "\n",
    "fig = plt.figure(figsize=(10, 7), frameon=False)\n",
    "axs = fig.add_subplot('111')\n",
    "bars = plt.bar(position, times, width, color='#ffc107', linewidth=0)\n",
    "\n",
    "for bar in bars:\n",
    "    height = bar.get_height()\n",
    "    axs.text(\n",
    "        bar.get_x() + bar.get_width() / 2.,\n",
    "        height - 0.1,\n",
    "        '{0:.6f} s'.format(height),\n",
    "        ha='center',\n",
    "        va='top',\n",
    "        rotation=90,\n",
    "        fontsize=14\n",
    "    )\n",
    "\n",
    "axs.set_xticks(xticks)\n",
    "axs.set_xticklabels(xlabels, fontsize=14)\n",
    "axs.set_xlabel(xlabel, fontsize=18)\n",
    "\n",
    "axs.set_yticklabels([int(yt) for yt in plt.gcf().gca().get_yticks()], fontsize=14)\n",
    "axs.set_ylabel(ylabel, fontsize=18)\n",
    "\n",
    "plt.show()"
   ]
  },
  {
   "cell_type": "markdown",
   "metadata": {},
   "source": [
    "#### 3.3.2 Profiling con `!time`"
   ]
  },
  {
   "cell_type": "code",
   "execution_count": null,
   "metadata": {
    "collapsed": true
   },
   "outputs": [],
   "source": [
    "%%capture B1_profile\n",
    "!time python code/B1.py"
   ]
  },
  {
   "cell_type": "code",
   "execution_count": null,
   "metadata": {
    "collapsed": true
   },
   "outputs": [],
   "source": [
    "%%capture B2_profile\n",
    "!time python code/B2.py"
   ]
  },
  {
   "cell_type": "code",
   "execution_count": null,
   "metadata": {
    "collapsed": true
   },
   "outputs": [],
   "source": [
    "%%capture B3_profile\n",
    "!time python code/B3.py"
   ]
  },
  {
   "cell_type": "code",
   "execution_count": null,
   "metadata": {
    "collapsed": true
   },
   "outputs": [],
   "source": [
    "import matplotlib.pyplot as plt\n",
    "import seaborn\n",
    "import re\n",
    "\n",
    "def normalize_log(profile):\n",
    "    log = profile.stdout.replace('\\r\\n', '\\n')\n",
    "    log = log.replace('\\n\\n', '\\n')\n",
    "    log = log.strip('\\n')\n",
    "    log = log.split('\\n')[2:]\n",
    "    log[0] = [float(t) * (60**(2 - i)) for i, t in enumerate(log[0].split(':')[1:])]\n",
    "    log[0] = [int((log[0][0] + log[0][1]) / 60.0), log[0][2]]\n",
    "    log[0] = [str(i) for i in log[0]]\n",
    "    log[0] = 'loop\\t' + 'm'.join(log[0]) + 's'\n",
    "    log = '\\n'.join(log)\n",
    "    return log\n",
    "\n",
    "\n",
    "def get_times(log):\n",
    "    times = log.split('\\n')\n",
    "    times = [time.split('\\t') for time in times]\n",
    "    times = [[key, time.strip('s').split('m')] for key, time in times]\n",
    "    times = [[key, int(time[0]) * 60 + float(time[1])] for key, time in times]\n",
    "    times = dict(times)\n",
    "    return times\n",
    "\n",
    "\n",
    "B1_log = normalize_log(B1_profile)\n",
    "B1_times = get_times(B1_log)\n",
    "\n",
    "B2_log = normalize_log(B2_profile)\n",
    "B2_times = get_times(B2_log)\n",
    "\n",
    "B3_log = normalize_log(B3_profile)\n",
    "B3_times = get_times(B3_log)\n",
    "\n",
    "colors = ['#ffc107', '#8bc34a', '#00bcd4', '#673ab7']\n",
    "keys = ['real', 'user', 'loop', 'sys']\n",
    "times = [B1_times, B2_times, B3_times]\n",
    "times = dict((key, [time[key] for time in times]) for key in keys)\n",
    "\n",
    "width = 0.2\n",
    "\n",
    "xticks = [0.5, 1, 1.5, 2, 2.5, 3]\n",
    "xlabels = ('B1', '', 'B2', '', 'B3', '')\n",
    "\n",
    "xlabel = 'Programas'\n",
    "ylabel = 'Time (s)'\n",
    "\n",
    "seaborn.set()\n",
    "\n",
    "fig = plt.figure(figsize=(10, 7), frameon=False)\n",
    "axs = fig.add_subplot('111')\n",
    "\n",
    "for i, (key, color) in enumerate(zip(keys, colors)):\n",
    "    position = [p + i * width + 0.03 for p in [0.1, 1.1, 2.2]]\n",
    "\n",
    "    bars = plt.bar(position, times[key], width-0.06, color=color, linewidth=0, label=key.capitalize())\n",
    "\n",
    "    va = 'top' if key != 'sys' else 'bottom'\n",
    "    offset = -0.2 if key != 'sys' else 0.2\n",
    "\n",
    "    for bar in bars:\n",
    "        height = bar.get_height()\n",
    "        axs.text(\n",
    "            bar.get_x() + bar.get_width() / 2. + 0.015,\n",
    "            height + offset,\n",
    "            '{0:.6f} s'.format(height),\n",
    "            ha='center',\n",
    "            va=va,\n",
    "            rotation=90,\n",
    "            fontsize=14\n",
    "        )\n",
    "\n",
    "axs.set_xticks(xticks)\n",
    "axs.set_xticklabels(xlabels, fontsize=14)\n",
    "axs.set_xlabel(xlabel, fontsize=16)\n",
    "\n",
    "axs.set_yticklabels([int(yt) for yt in plt.gcf().gca().get_yticks()], fontsize=14)\n",
    "axs.set_ylabel(ylabel, fontsize=16)\n",
    "\n",
    "axs.spines['top'].set_visible(False)\n",
    "axs.spines['right'].set_visible(False)\n",
    "axs.get_xaxis().tick_bottom()\n",
    "axs.get_yaxis().tick_left()\n",
    "\n",
    "axs.legend()\n",
    "\n",
    "plt.show()"
   ]
  },
  {
   "cell_type": "markdown",
   "metadata": {},
   "source": [
    "#### 3.3.3 Los módulos profile y pstats"
   ]
  },
  {
   "cell_type": "code",
   "execution_count": null,
   "metadata": {
    "collapsed": true,
    "scrolled": false
   },
   "outputs": [],
   "source": [
    "!python -m cProfile -o code/C1.profile -s time code/C1.py"
   ]
  },
  {
   "cell_type": "code",
   "execution_count": null,
   "metadata": {
    "collapsed": true,
    "scrolled": false
   },
   "outputs": [],
   "source": [
    "!python -m cProfile -o code/C2.profile -s time code/C2.py"
   ]
  },
  {
   "cell_type": "code",
   "execution_count": null,
   "metadata": {
    "collapsed": true,
    "scrolled": false
   },
   "outputs": [],
   "source": [
    "!python -m cProfile -o code/C3.profile -s time code/C3.py"
   ]
  },
  {
   "cell_type": "code",
   "execution_count": null,
   "metadata": {
    "collapsed": true,
    "scrolled": false
   },
   "outputs": [],
   "source": [
    "import pstats"
   ]
  },
  {
   "cell_type": "code",
   "execution_count": null,
   "metadata": {
    "collapsed": true
   },
   "outputs": [],
   "source": [
    "C1_stats = pstats.Stats('code/C1.profile')\n",
    "C1_stats.strip_dirs().sort_stats('nfl').print_stats();"
   ]
  },
  {
   "cell_type": "code",
   "execution_count": null,
   "metadata": {
    "collapsed": true
   },
   "outputs": [],
   "source": [
    "C2_stats = pstats.Stats('code/C2.profile')\n",
    "C2_stats.strip_dirs().sort_stats('nfl').print_stats();"
   ]
  },
  {
   "cell_type": "code",
   "execution_count": null,
   "metadata": {
    "collapsed": true
   },
   "outputs": [],
   "source": [
    "C3_stats = pstats.Stats('code/C3.profile')\n",
    "C3_stats.strip_dirs().sort_stats('nfl').print_stats();"
   ]
  },
  {
   "cell_type": "code",
   "execution_count": null,
   "metadata": {
    "collapsed": true
   },
   "outputs": [],
   "source": []
  }
 ],
 "metadata": {
  "anaconda-cloud": {},
  "kernelspec": {
   "display_name": "Python 3",
   "language": "python",
   "name": "python3"
  },
  "language_info": {
   "codemirror_mode": {
    "name": "ipython",
    "version": 3
   },
   "file_extension": ".py",
   "mimetype": "text/x-python",
   "name": "python",
   "nbconvert_exporter": "python",
   "pygments_lexer": "ipython3",
   "version": "3.6.2"
  }
 },
 "nbformat": 4,
 "nbformat_minor": 1
}
