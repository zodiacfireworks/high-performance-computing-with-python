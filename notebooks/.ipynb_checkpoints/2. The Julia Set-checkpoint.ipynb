{
 "cells": [
  {
   "cell_type": "markdown",
   "metadata": {},
   "source": [
    "<div class=\"clearfix\" style=\"padding: 10px; padding-left: 0px\">\n",
    "<img src=\"resources/img/softbutterfly-logo.png\" class=\"pull-left\" style=\"display: block; height: 40px; margin: 0;\"><img src=\"resources/img/jupyter-logo.png\" class=\"pull-right\"  style=\"display: block; height: 20px; margin-top: 10px;\">\n",
    "</div>"
   ]
  },
  {
   "cell_type": "markdown",
   "metadata": {},
   "source": [
    "<h1 style=\"text-align:center;\">Introducción a la Computación de alto rendimiento con Python<br></h1>"
   ]
  },
  {
   "cell_type": "markdown",
   "metadata": {},
   "source": [
    "<div style=\"text-align:center;\">\n",
    "<strong>Martín Josemaría Vuelta Rojas</strong><br><br>\n",
    "<i>Universidad Nacional Mayor de San Marcos</i><br>\n",
    "<strong>Facultad de Ciencias Físicas</strong><br><br>\n",
    "<i>SoftButterfly</i><br>\n",
    "<strong>Cofundador y Líder del Área de Desarrollo</strong><br>\n",
    "</div>"
   ]
  },
  {
   "cell_type": "markdown",
   "metadata": {
    "nbpresent": {
     "id": "4cb696f5-ad96-412e-9cef-9538789e2354"
    },
    "slideshow": {
     "slide_type": "slide"
    }
   },
   "source": [
    "## 2. El conjunto de Julia"
   ]
  },
  {
   "cell_type": "markdown",
   "metadata": {
    "nbpresent": {
     "id": "b721934b-b5f3-434e-b237-d4863cf44308"
    },
    "slideshow": {
     "slide_type": "fragment"
    }
   },
   "source": [
    "Dada una funcion racional $R(z)$ "
   ]
  },
  {
   "cell_type": "markdown",
   "metadata": {
    "nbpresent": {
     "id": "d594ddd4-89a3-4866-9cc2-27f8952e7d3b"
    },
    "slideshow": {
     "slide_type": "fragment"
    }
   },
   "source": [
    "$$R\\left(z\\right)=\\frac{P\\left(z\\right)}{Q\\left(z\\right)}$$"
   ]
  },
  {
   "cell_type": "markdown",
   "metadata": {
    "nbpresent": {
     "id": "b819078f-996a-4759-8118-5b6144108483"
    },
    "slideshow": {
     "slide_type": "fragment"
    }
   },
   "source": [
    "donde $z \\in \\mathbb{C}^*$, siendo $\\mathbb{C}^*$ la esfera de Riemann ($\\mathbb{C} \\cup {\\infty}$), y $P$ y Q son funciones polinomiales sin factores comunes entre si. El conjunto de Julia, $J_R$, es la frontera del conjunto de puntos $z$ que no se aproximan al infinito despues de sucesivas aplicaciones de $R(z)$."
   ]
  },
  {
   "cell_type": "markdown",
   "metadata": {
    "nbpresent": {
     "id": "d07b6274-b113-469a-a4f9-5cafe0bbbffc"
    },
    "slideshow": {
     "slide_type": "fragment"
    }
   },
   "source": [
    "Para este taller nos ocupan los denominados conjuntos cuadráticos de Julia que son generados por el mapeo cuadratico recurrente"
   ]
  },
  {
   "cell_type": "markdown",
   "metadata": {
    "nbpresent": {
     "id": "ca692b22-cf5f-485b-8e7e-d802f7368dce"
    },
    "slideshow": {
     "slide_type": "fragment"
    }
   },
   "source": [
    "$$z_{(n+1)}=z_{n}^{2}+c$$"
   ]
  },
  {
   "cell_type": "markdown",
   "metadata": {
    "nbpresent": {
     "id": "10e39d1b-5d74-4258-bb11-de0351c82adc"
    },
    "slideshow": {
     "slide_type": "fragment"
    }
   },
   "source": [
    "para una contante $c$. Para casi todo $c$, este mapeo genera un fractal.\n",
    "\n"
   ]
  },
  {
   "cell_type": "markdown",
   "metadata": {
    "nbpresent": {
     "id": "ca709875-8d75-41fb-a16c-fc5f1486f3e8"
    },
    "slideshow": {
     "slide_type": "slide"
    }
   },
   "source": [
    "### 2.1 Ejemplos de Conjuntos de Julia"
   ]
  },
  {
   "cell_type": "markdown",
   "metadata": {
    "nbpresent": {
     "id": "2064c041-5e7e-4867-ad94-c38122677524"
    },
    "slideshow": {
     "slide_type": "subslide"
    }
   },
   "source": [
    "El fractal dendrita: $c=i$\n",
    "![Dendrite Fractal](./resources/img/fractal_s1_1.png \"El fractal dendrita\")"
   ]
  },
  {
   "cell_type": "markdown",
   "metadata": {
    "nbpresent": {
     "id": "fc343e86-7366-44d2-aa8f-b9430051e366"
    },
    "slideshow": {
     "slide_type": "subslide"
    }
   },
   "source": [
    "El conejo de Douady: $c=-0.123+0.745i$\n",
    "![Douady's Bunny](./resources/img/fractal_s1_2.png \"El conejo de Douady\")"
   ]
  },
  {
   "cell_type": "markdown",
   "metadata": {
    "nbpresent": {
     "id": "86a7d2ad-413a-40e9-b1a5-d46b39d83908"
    },
    "slideshow": {
     "slide_type": "subslide"
    }
   },
   "source": [
    "El fractal de San Marco: $c=-0.75$\n",
    "![San Marco Fractal](./resources/img/fractal_s1_3.png \"El fractal de San Marco\")"
   ]
  },
  {
   "cell_type": "markdown",
   "metadata": {
    "nbpresent": {
     "id": "098923e2-d551-4c71-9f5b-96a4cac2043a"
    },
    "slideshow": {
     "slide_type": "subslide"
    }
   },
   "source": [
    "El disco de Siegel: $c=-0.391-0.587i$\n",
    "![Siegel Disk Fractal](./resources/img/fractal_s1_4.png \"El disco de Siegel\")"
   ]
  },
  {
   "cell_type": "markdown",
   "metadata": {
    "nbpresent": {
     "id": "d4e30f9f-7f97-47b2-85be-405eb389f226"
    },
    "slideshow": {
     "slide_type": "subslide"
    }
   },
   "source": [
    "Un ejemplo muy bonito: $c=?$\n",
    "![Beauty example](./resources/img/fractal_s2_beauty.png \"Bonito fractal\")"
   ]
  },
  {
   "cell_type": "markdown",
   "metadata": {
    "nbpresent": {
     "id": "10cb6713-1690-47b5-8a25-69964659e844"
    },
    "slideshow": {
     "slide_type": "slide"
    }
   },
   "source": [
    "### 2.2 Generando Conjuntos de Julia en Python"
   ]
  },
  {
   "cell_type": "code",
   "execution_count": null,
   "metadata": {
    "collapsed": true,
    "nbpresent": {
     "id": "686b0b3c-4c7d-4e0c-84cd-5e7b6acd3b7d"
    },
    "slideshow": {
     "slide_type": "fragment"
    }
   },
   "outputs": [],
   "source": [
    "%matplotlib inline"
   ]
  },
  {
   "cell_type": "code",
   "execution_count": null,
   "metadata": {
    "collapsed": true,
    "nbpresent": {
     "id": "a79caa57-a969-4967-9686-1edeff88a42f"
    },
    "scrolled": false,
    "slideshow": {
     "slide_type": "fragment"
    }
   },
   "outputs": [],
   "source": [
    "import matplotlib.pyplot as plt\n",
    "import matplotlib.cm as cm\n",
    "\n",
    "# Limites de la region a estudiar\n",
    "xL, xU, yL, yU = -2, +2, -2, +2\n",
    "\n",
    "# resolucion de la imagen\n",
    "r = 500\n",
    "\n",
    "# numero maximo de iteraciones\n",
    "max_it = 200\n",
    "\n",
    "# Grillado de la region a estudiar\n",
    "x = [xL + i * (float(xU) - float(xL)) / (float(r)) for i in range(r + 1)]\n",
    "y = [yL + i * (float(yU) - float(yL)) / (float(r)) for i in range(r + 1)]\n",
    "\n",
    "# Constantes a emplearse como c en\n",
    "# z_n+1 = z_n*z_n + c\n",
    "cs = [\n",
    "    complex( 0.0000000,  1.00000000),\n",
    "    complex(-0.1270000,  0.74500000),\n",
    "    complex(-0.7500000, -0.00000000),\n",
    "    complex(-0.3910000, -0.58700000)\n",
    "]\n",
    "\n",
    "for c in cs:\n",
    "    # Preparecion del mallado en el plano complejo\n",
    "    z = [[complex(re, im) for re in x] for im in y]\n",
    "    q = [[0 for i in range(r + 1)] for j in range(r + 1)]\n",
    "\n",
    "    # \"Crunching number\"\n",
    "    for i in range(len(x)):\n",
    "        for j in range(len(y)):\n",
    "            p = i + j + i * r\n",
    "\n",
    "            if p % (r + 1) == 0:\n",
    "                p = 100.0 * float(p) / float((r + 1) * (r + 1))\n",
    "\n",
    "            for k in range(max_it):\n",
    "                z[i][j] = (z[i][j] * z[i][j]) + c\n",
    "                if abs(z[i][j]) > 2:\n",
    "                    q[i][j] = k\n",
    "                    break\n",
    "\n",
    "    # Output figure\n",
    "    plt.figure(figsize=(10, 10), frameon=False)\n",
    "    plt.imshow(q, extent=[xL, xU, yL, yU], cmap=cm.jet, vmin=min(min(q)), vmax=max(max(q)))\n",
    "    plt.axis('off')\n",
    "    plt.draw()\n",
    "    plt.show()"
   ]
  },
  {
   "cell_type": "code",
   "execution_count": null,
   "metadata": {
    "collapsed": true
   },
   "outputs": [],
   "source": []
  }
 ],
 "metadata": {
  "anaconda-cloud": {},
  "kernelspec": {
   "display_name": "Python 3",
   "language": "python",
   "name": "python3"
  },
  "language_info": {
   "codemirror_mode": {
    "name": "ipython",
    "version": 3
   },
   "file_extension": ".py",
   "mimetype": "text/x-python",
   "name": "python",
   "nbconvert_exporter": "python",
   "pygments_lexer": "ipython3",
   "version": "3.6.2"
  },
  "nbpresent": {
   "slides": {},
   "themes": {}
  }
 },
 "nbformat": 4,
 "nbformat_minor": 1
}
